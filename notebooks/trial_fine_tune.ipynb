{
 "cells": [
  {
   "cell_type": "code",
   "execution_count": 2,
   "metadata": {},
   "outputs": [],
   "source": [
    "from constants import globals as g"
   ]
  },
  {
   "cell_type": "code",
   "execution_count": 5,
   "metadata": {},
   "outputs": [],
   "source": [
    "_base_ = [\n",
    "    '../../_base_/models/tsn_r50.py', '../../_base_/schedules/sgd_100e.py',\n",
    "    '../../_base_/default_runtime.py'\n",
    "]\n",
    "\n",
    "model = dict(\n",
    "    cls_head=dict(\n",
    "        type='TSNHEad',\n",
    "        num_classes=7\n",
    "    )\n",
    ")\n",
    "\n",
    "dataset_type = 'VideoDataset'\n",
    "data_root = g.TRAIN_DIR\n",
    "data_root_val = g.VAL_DIR\n",
    "ann_file_train = f'{g.GROSSMOTOR_DIR}\\\\ucf101_train_list.txt'\n",
    "ann_file_val = f'{g.GROSSMOTOR_DIR}\\\\ucf101_val_list.txt'"
   ]
  },
  {
   "cell_type": "code",
   "execution_count": 7,
   "metadata": {},
   "outputs": [],
   "source": [
    "train_cfg = dict(\n",
    "    type='EpochBasedTrainLoop',\n",
    "    max_epochs=50,\n",
    "    val_begin=1,\n",
    "    val_interval=1,\n",
    ")\n",
    "\n",
    "val_cfg = dict(type='ValLoop')\n",
    "test_cfg = dict(type='TestLoop')\n",
    "\n",
    "param_scheduler = [\n",
    "    dict(\n",
    "        type='MultiStepLR',\n",
    "        begin=0,\n",
    "        end=50,\n",
    "        by_epoch=True,\n",
    "        milestones=[20, 40],\n",
    "        gamma=0.1,\n",
    "    )\n",
    "]\n",
    "\n",
    "optim_wrapper = dict(\n",
    "    optimizer=dict(\n",
    "        type='SGD',\n",
    "        lr=0.005,\n",
    "        momentum=0.9,\n",
    "        weight_decay=0.0001\n",
    "    ),\n",
    "    clip_grad=dict(max_norm=40, norm_type=2)\n",
    ")\n",
    "\n",
    "\n",
    "load_from = 'https://download.openmmlab.com/mmaction/v1.0/recognition/tsn/tsn_imagenet-pretrained-r50_8xb32-1x1x3-100e_kinetics400-rgb/tsn_imagenet-pretrained-r50_8xb32-1x1x3-100e_kinetics400-rgb_20220906-cd10898e.pth'\n",
    "val_evaluator = dict(type='AccMetric')\n",
    "test_evaluator = val_evaluator\n",
    "\n",
    "default_hooks = dict(checkpoint=dict(interval=3, max_keep_ckpts=3))\n",
    "\n",
    "auto_scale_lr = dict(enable=False, base_batch_size=256)"
   ]
  },
  {
   "cell_type": "code",
   "execution_count": null,
   "metadata": {},
   "outputs": [],
   "source": []
  }
 ],
 "metadata": {
  "kernelspec": {
   "display_name": "grossmotor",
   "language": "python",
   "name": "python3"
  },
  "language_info": {
   "codemirror_mode": {
    "name": "ipython",
    "version": 3
   },
   "file_extension": ".py",
   "mimetype": "text/x-python",
   "name": "python",
   "nbconvert_exporter": "python",
   "pygments_lexer": "ipython3",
   "version": "3.8.19"
  }
 },
 "nbformat": 4,
 "nbformat_minor": 2
}
