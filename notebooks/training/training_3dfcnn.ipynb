{
 "cells": [
  {
   "cell_type": "code",
   "execution_count": 1,
   "metadata": {},
   "outputs": [],
   "source": [
    "from models import model3dfcnn\n",
    "from constants import globals as g\n",
    "# import os\n",
    "\n",
    "import numpy as np\n",
    "import cv2 \n",
    "import time\n",
    "import matplotlib.pyplot as plt\n",
    "import seaborn as sns\n",
    "# import tensorflow as tf\n",
    "\n",
    "from keras.utils import to_categorical\n",
    "from keras.callbacks import ModelCheckpoint, ReduceLROnPlateau\n",
    "from sklearn.model_selection import train_test_split\n",
    "from sklearn.metrics import confusion_matrix\n",
    "\n",
    "import warnings\n",
    "warnings.filterwarnings('ignore')\n",
    "\n",
    "%load_ext autoreload\n",
    "%autoreload 2\n"
   ]
  },
  {
   "cell_type": "code",
   "execution_count": 2,
   "metadata": {},
   "outputs": [
    {
     "name": "stdout",
     "output_type": "stream",
     "text": [
      "No GPU found\n"
     ]
    }
   ],
   "source": [
    "import os\n",
    "import tensorflow as tf\n",
    "\n",
    "os.environ['CUDA_VISIBLE_DEVICES'] = '-1'\n",
    "\n",
    "if tf.test.gpu_device_name():\n",
    "    print('GPU found')\n",
    "else:\n",
    "    print(\"No GPU found\")\n",
    "\n",
    "# No GPU found"
   ]
  },
  {
   "cell_type": "code",
   "execution_count": 3,
   "metadata": {},
   "outputs": [],
   "source": [
    "IMAGE_HEIGHT, IMAGE_WIDTH = 128, 128\n",
    "SEQUENCE_LENGTH = 10\n",
    "\n",
    "DATASET_DIR = \"../../data/heatmap/raw\"\n",
    "# CLASSES_LIST = os.listdir(DATASET_DIR)\n",
    "# NUM_CLASSES = len(CLASSES_LIST)"
   ]
  },
  {
   "cell_type": "code",
   "execution_count": 4,
   "metadata": {},
   "outputs": [],
   "source": [
    "def frames_from_video_file(path, max_frames=10, resize=(IMAGE_HEIGHT, IMAGE_WIDTH)):\n",
    "    \"\"\" Process video by extracting individual frames and\n",
    "        converting them to numpy array\n",
    "\n",
    "        Args:\n",
    "            path: Source path of the video\n",
    "            max_frames: Maximum number of frames to be extracted\n",
    "            resize (default=(64,64)): Size of frame to be resize into\n",
    "\n",
    "        Returns:\n",
    "            Numpy array of frames with normalized pixel values\n",
    "    \"\"\"\n",
    "\n",
    "    cap = cv2.VideoCapture(path)\n",
    "    frames = []\n",
    "    try:\n",
    "        while True:\n",
    "            ret, frame = cap.read()\n",
    "            if not ret:\n",
    "                break\n",
    "\n",
    "            frame = cv2.resize(frame, resize)\n",
    "            frame = frame[:, :, [2, 1, 0]]\n",
    "            frames.append(frame)\n",
    "            if len(frames) == max_frames:\n",
    "                break\n",
    "\n",
    "    finally:\n",
    "        cap.release()\n",
    "    return np.array(frames) / 255.0"
   ]
  },
  {
   "cell_type": "code",
   "execution_count": 5,
   "metadata": {},
   "outputs": [],
   "source": [
    "import re\n",
    "from tqdm import tqdm\n",
    "\n",
    "CLASSES_LIST = ['gallop', 'hop', 'jump', 'leap', 'run', 'skip', 'slide']\n",
    "\n",
    "def create_dataset():\n",
    "    \"\"\"\n",
    "    This function will extract the data from videos in the dataset directory and create the required dataset.\n",
    "    Returns:\n",
    "        features:          A list containing the extracted frames of the videos.\n",
    "        labels:            A list containing the indexes of the classes associated with the videos.\n",
    "        video_files_paths: A list containing the paths of the videos in the disk.\n",
    "    \"\"\"\n",
    "    features = []\n",
    "    labels = []\n",
    "    video_files_paths = []\n",
    "\n",
    "    # Define a pattern to extract class labels from filenames\n",
    "    pattern = re.compile(r'_(gallop|hop|jump|leap|run|skip|slide)_')\n",
    "\n",
    "    # Get the list of all video files in the dataset directory\n",
    "    files_list = os.listdir(DATASET_DIR)\n",
    "\n",
    "    for file_name in tqdm(files_list, total=len(files_list), desc=\"Creating dataset\"):\n",
    "        if file_name.endswith(\".mp4\"):\n",
    "            # Get the complete video path\n",
    "            video_file_path = os.path.join(DATASET_DIR, file_name)\n",
    "\n",
    "            # Extract the class label from the filename\n",
    "            match = pattern.search(file_name)\n",
    "            if match:\n",
    "                class_name = match.group(1)\n",
    "                class_index = CLASSES_LIST.index(class_name)\n",
    "\n",
    "                # Extract the frames of the video file\n",
    "                frames = frames_from_video_file(video_file_path,\n",
    "                                                max_frames=SEQUENCE_LENGTH,\n",
    "                                                resize=(IMAGE_HEIGHT, IMAGE_WIDTH))\n",
    "\n",
    "                # Check if the extracted frames are equal to the SEQUENCE_LENGTH specified\n",
    "                if len(frames) == SEQUENCE_LENGTH:\n",
    "                    features.append(frames)\n",
    "                    labels.append(class_index)\n",
    "                    video_files_paths.append(video_file_path)\n",
    "\n",
    "    # Converting the list to numpy arrays\n",
    "    features = np.asarray(features)\n",
    "    labels = np.array(labels)\n",
    "\n",
    "    return features, labels, video_files_paths"
   ]
  },
  {
   "cell_type": "code",
   "execution_count": 6,
   "metadata": {},
   "outputs": [
    {
     "name": "stderr",
     "output_type": "stream",
     "text": [
      "Creating dataset: 100%|██████████| 307/307 [00:04<00:00, 70.47it/s]\n"
     ]
    }
   ],
   "source": [
    "X, y, filepaths = create_dataset()"
   ]
  },
  {
   "cell_type": "code",
   "execution_count": 7,
   "metadata": {},
   "outputs": [
    {
     "data": {
      "text/plain": [
       "(305, 10, 128, 128, 3)"
      ]
     },
     "execution_count": 7,
     "metadata": {},
     "output_type": "execute_result"
    }
   ],
   "source": [
    "X.shape"
   ]
  },
  {
   "cell_type": "code",
   "execution_count": 8,
   "metadata": {},
   "outputs": [],
   "source": [
    "# Apply one-hot encoding to labels\n",
    "y_encoded = to_categorical(y)"
   ]
  },
  {
   "cell_type": "code",
   "execution_count": 9,
   "metadata": {},
   "outputs": [],
   "source": [
    "X_train, X_test, y_train, y_test = train_test_split(X, y_encoded,\n",
    "                                                    test_size = 0.2,\n",
    "                                                    stratify=y_encoded,\n",
    "                                                    random_state = 42)"
   ]
  },
  {
   "cell_type": "code",
   "execution_count": 10,
   "metadata": {},
   "outputs": [
    {
     "name": "stdout",
     "output_type": "stream",
     "text": [
      "Train len: 244\n",
      "Test len: 61\n"
     ]
    }
   ],
   "source": [
    "print(f\"Train len: {len(X_train)}\")\n",
    "print(f\"Test len: {len(X_test)}\")"
   ]
  },
  {
   "cell_type": "code",
   "execution_count": 11,
   "metadata": {},
   "outputs": [
    {
     "name": "stdout",
     "output_type": "stream",
     "text": [
      "Model: \"3DFCNNv1\"\n",
      "_________________________________________________________________\n",
      " Layer (type)                Output Shape              Param #   \n",
      "=================================================================\n",
      " input_1 (InputLayer)        [(None, 10, 128, 128, 3)  0         \n",
      "                             ]                                   \n",
      "                                                                 \n",
      " conv3d (Conv3D)             (None, 10, 128, 128, 32)  2624      \n",
      "                                                                 \n",
      " batch_normalization (BatchN  (None, 10, 128, 128, 32)  128      \n",
      " ormalization)                                                   \n",
      "                                                                 \n",
      " leaky_re_lu (LeakyReLU)     (None, 10, 128, 128, 32)  0         \n",
      "                                                                 \n",
      " conv3d_1 (Conv3D)           (None, 10, 128, 128, 32)  27680     \n",
      "                                                                 \n",
      " batch_normalization_1 (Batc  (None, 10, 128, 128, 32)  128      \n",
      " hNormalization)                                                 \n",
      "                                                                 \n",
      " leaky_re_lu_1 (LeakyReLU)   (None, 10, 128, 128, 32)  0         \n",
      "                                                                 \n",
      " max_pooling3d (MaxPooling3D  (None, 3, 42, 42, 32)    0         \n",
      " )                                                               \n",
      "                                                                 \n",
      " dropout (Dropout)           (None, 3, 42, 42, 32)     0         \n",
      "                                                                 \n",
      " conv3d_2 (Conv3D)           (None, 3, 42, 42, 64)     55360     \n",
      "                                                                 \n",
      " batch_normalization_2 (Batc  (None, 3, 42, 42, 64)    256       \n",
      " hNormalization)                                                 \n",
      "                                                                 \n",
      " conv3d_3 (Conv3D)           (None, 3, 42, 42, 64)     110656    \n",
      "                                                                 \n",
      " batch_normalization_3 (Batc  (None, 3, 42, 42, 64)    256       \n",
      " hNormalization)                                                 \n",
      "                                                                 \n",
      " leaky_re_lu_2 (LeakyReLU)   (None, 3, 42, 42, 64)     0         \n",
      "                                                                 \n",
      " dropout_1 (Dropout)         (None, 3, 42, 42, 64)     0         \n",
      "                                                                 \n",
      " conv3d_4 (Conv3D)           (None, 3, 42, 42, 128)    73856     \n",
      "                                                                 \n",
      " reshape (Reshape)           (None, 126, 42, 128)      0         \n",
      "                                                                 \n",
      " conv2d (Conv2D)             (None, 63, 21, 128)       147584    \n",
      "                                                                 \n",
      " batch_normalization_4 (Batc  (None, 63, 21, 128)      512       \n",
      " hNormalization)                                                 \n",
      "                                                                 \n",
      " leaky_re_lu_3 (LeakyReLU)   (None, 63, 21, 128)       0         \n",
      "                                                                 \n",
      " conv2d_1 (Conv2D)           (None, 63, 21, 7)         903       \n",
      "                                                                 \n",
      " average_pooling2d (AverageP  (None, 31, 10, 7)        0         \n",
      " ooling2D)                                                       \n",
      "                                                                 \n",
      " flatten (Flatten)           (None, 2170)              0         \n",
      "                                                                 \n",
      " dense (Dense)               (None, 7)                 15197     \n",
      "                                                                 \n",
      "=================================================================\n",
      "Total params: 435,140\n",
      "Trainable params: 434,500\n",
      "Non-trainable params: 640\n",
      "_________________________________________________________________\n"
     ]
    }
   ],
   "source": [
    "model_params = {\n",
    "    \"input_shape\": (SEQUENCE_LENGTH, IMAGE_HEIGHT, IMAGE_WIDTH, 3),\n",
    "    \"num_classes\": 7,\n",
    "    \"model_name\": \"3DFCNNv1\",\n",
    "    \"to_print\": False\n",
    "}\n",
    "\n",
    "model = model3dfcnn.buildModel(**model_params)\n",
    "model.summary()"
   ]
  },
  {
   "cell_type": "code",
   "execution_count": 12,
   "metadata": {},
   "outputs": [
    {
     "name": "stdout",
     "output_type": "stream",
     "text": [
      "Epoch 1/20\n",
      "61/61 [==============================] - ETA: 0s - loss: 2.2216 - accuracy: 0.2131"
     ]
    },
    {
     "name": "stderr",
     "output_type": "stream",
     "text": [
      "WARNING:absl:Found untraced functions such as _jit_compiled_convolution_op, _jit_compiled_convolution_op, _jit_compiled_convolution_op, _jit_compiled_convolution_op, _jit_compiled_convolution_op while saving (showing 5 of 7). These functions will not be directly callable after loading.\n"
     ]
    },
    {
     "name": "stdout",
     "output_type": "stream",
     "text": [
      "INFO:tensorflow:Assets written to: ../../results\\3DFCNN\\assets\n"
     ]
    },
    {
     "name": "stderr",
     "output_type": "stream",
     "text": [
      "INFO:tensorflow:Assets written to: ../../results\\3DFCNN\\assets\n"
     ]
    },
    {
     "name": "stdout",
     "output_type": "stream",
     "text": [
      "61/61 [==============================] - 187s 3s/step - loss: 2.2216 - accuracy: 0.2131 - val_loss: 1.8400 - val_accuracy: 0.2951 - lr: 0.0010\n",
      "Epoch 2/20\n",
      "61/61 [==============================] - 183s 3s/step - loss: 1.7495 - accuracy: 0.3361 - val_loss: 1.9032 - val_accuracy: 0.2951 - lr: 0.0010\n",
      "Epoch 3/20\n",
      "61/61 [==============================] - 184s 3s/step - loss: 1.6002 - accuracy: 0.3402 - val_loss: 2.0160 - val_accuracy: 0.1148 - lr: 0.0010\n",
      "Epoch 4/20\n",
      "61/61 [==============================] - ETA: 0s - loss: 1.5150 - accuracy: 0.3811"
     ]
    },
    {
     "name": "stderr",
     "output_type": "stream",
     "text": [
      "WARNING:absl:Found untraced functions such as _jit_compiled_convolution_op, _jit_compiled_convolution_op, _jit_compiled_convolution_op, _jit_compiled_convolution_op, _jit_compiled_convolution_op while saving (showing 5 of 7). These functions will not be directly callable after loading.\n"
     ]
    },
    {
     "name": "stdout",
     "output_type": "stream",
     "text": [
      "INFO:tensorflow:Assets written to: ../../results\\3DFCNN\\assets\n"
     ]
    },
    {
     "name": "stderr",
     "output_type": "stream",
     "text": [
      "INFO:tensorflow:Assets written to: ../../results\\3DFCNN\\assets\n"
     ]
    },
    {
     "name": "stdout",
     "output_type": "stream",
     "text": [
      "61/61 [==============================] - 185s 3s/step - loss: 1.5150 - accuracy: 0.3811 - val_loss: 1.7245 - val_accuracy: 0.3443 - lr: 0.0010\n",
      "Epoch 5/20\n",
      "61/61 [==============================] - ETA: 0s - loss: 1.4741 - accuracy: 0.4508"
     ]
    },
    {
     "name": "stderr",
     "output_type": "stream",
     "text": [
      "WARNING:absl:Found untraced functions such as _jit_compiled_convolution_op, _jit_compiled_convolution_op, _jit_compiled_convolution_op, _jit_compiled_convolution_op, _jit_compiled_convolution_op while saving (showing 5 of 7). These functions will not be directly callable after loading.\n"
     ]
    },
    {
     "name": "stdout",
     "output_type": "stream",
     "text": [
      "INFO:tensorflow:Assets written to: ../../results\\3DFCNN\\assets\n"
     ]
    },
    {
     "name": "stderr",
     "output_type": "stream",
     "text": [
      "INFO:tensorflow:Assets written to: ../../results\\3DFCNN\\assets\n"
     ]
    },
    {
     "name": "stdout",
     "output_type": "stream",
     "text": [
      "61/61 [==============================] - 185s 3s/step - loss: 1.4741 - accuracy: 0.4508 - val_loss: 1.6130 - val_accuracy: 0.4098 - lr: 0.0010\n",
      "Epoch 6/20\n",
      "61/61 [==============================] - ETA: 0s - loss: 1.2587 - accuracy: 0.5082"
     ]
    },
    {
     "name": "stderr",
     "output_type": "stream",
     "text": [
      "WARNING:absl:Found untraced functions such as _jit_compiled_convolution_op, _jit_compiled_convolution_op, _jit_compiled_convolution_op, _jit_compiled_convolution_op, _jit_compiled_convolution_op while saving (showing 5 of 7). These functions will not be directly callable after loading.\n"
     ]
    },
    {
     "name": "stdout",
     "output_type": "stream",
     "text": [
      "INFO:tensorflow:Assets written to: ../../results\\3DFCNN\\assets\n"
     ]
    },
    {
     "name": "stderr",
     "output_type": "stream",
     "text": [
      "INFO:tensorflow:Assets written to: ../../results\\3DFCNN\\assets\n"
     ]
    },
    {
     "name": "stdout",
     "output_type": "stream",
     "text": [
      "61/61 [==============================] - 186s 3s/step - loss: 1.2587 - accuracy: 0.5082 - val_loss: 1.5017 - val_accuracy: 0.3770 - lr: 0.0010\n",
      "Epoch 7/20\n",
      "61/61 [==============================] - 183s 3s/step - loss: 1.0985 - accuracy: 0.5820 - val_loss: 1.9673 - val_accuracy: 0.3115 - lr: 0.0010\n",
      "Epoch 8/20\n",
      "61/61 [==============================] - 183s 3s/step - loss: 0.8929 - accuracy: 0.6680 - val_loss: 1.6976 - val_accuracy: 0.4754 - lr: 0.0010\n",
      "Epoch 9/20\n",
      "61/61 [==============================] - 183s 3s/step - loss: 0.6730 - accuracy: 0.7746 - val_loss: 2.1827 - val_accuracy: 0.4262 - lr: 0.0010\n",
      "Epoch 10/20\n",
      "61/61 [==============================] - 183s 3s/step - loss: 0.4737 - accuracy: 0.8361 - val_loss: 1.9257 - val_accuracy: 0.4426 - lr: 1.0000e-04\n",
      "Epoch 11/20\n",
      "61/61 [==============================] - 183s 3s/step - loss: 0.3591 - accuracy: 0.9016 - val_loss: 1.8221 - val_accuracy: 0.4754 - lr: 1.0000e-04\n",
      "Epoch 12/20\n",
      "61/61 [==============================] - 183s 3s/step - loss: 0.2853 - accuracy: 0.9221 - val_loss: 1.8872 - val_accuracy: 0.4918 - lr: 1.0000e-04\n",
      "Epoch 13/20\n",
      "61/61 [==============================] - 183s 3s/step - loss: 0.2444 - accuracy: 0.9180 - val_loss: 1.9370 - val_accuracy: 0.4754 - lr: 1.0000e-04\n",
      "Epoch 14/20\n",
      "61/61 [==============================] - 184s 3s/step - loss: 0.1856 - accuracy: 0.9672 - val_loss: 1.9815 - val_accuracy: 0.4754 - lr: 1.0000e-04\n",
      "Epoch 15/20\n",
      "61/61 [==============================] - 183s 3s/step - loss: 0.1701 - accuracy: 0.9549 - val_loss: 2.0668 - val_accuracy: 0.4754 - lr: 1.0000e-04\n",
      "Epoch 16/20\n",
      "61/61 [==============================] - 184s 3s/step - loss: 0.1473 - accuracy: 0.9631 - val_loss: 2.1680 - val_accuracy: 0.4754 - lr: 1.0000e-04\n",
      "Epoch 17/20\n",
      "61/61 [==============================] - 183s 3s/step - loss: 0.1200 - accuracy: 0.9836 - val_loss: 2.2291 - val_accuracy: 0.4918 - lr: 1.0000e-04\n",
      "Epoch 18/20\n",
      "61/61 [==============================] - 183s 3s/step - loss: 0.1127 - accuracy: 0.9754 - val_loss: 2.3210 - val_accuracy: 0.5082 - lr: 1.0000e-04\n",
      "Epoch 19/20\n",
      "61/61 [==============================] - 184s 3s/step - loss: 0.1039 - accuracy: 0.9836 - val_loss: 2.3899 - val_accuracy: 0.4918 - lr: 1.0000e-04\n",
      "Epoch 20/20\n",
      "61/61 [==============================] - 183s 3s/step - loss: 0.0803 - accuracy: 0.9918 - val_loss: 2.4560 - val_accuracy: 0.5082 - lr: 1.0000e-04\n"
     ]
    }
   ],
   "source": [
    "model_checkpoint = ModelCheckpoint(\n",
    "    filepath=\"../../results/3DFCNN\",\n",
    "    save_best_only=True,\n",
    "    verbose=0,\n",
    "    save_weights_only=False,\n",
    ")\n",
    "reduceLR = ReduceLROnPlateau(monitor='val_loss', factor=0.001, patience=3, min_lr=1e-4,)\n",
    "\n",
    "callbacks = [model_checkpoint, reduceLR]\n",
    "\n",
    "start_train_time = time.time()\n",
    "history = model.fit(\n",
    "    X_train, y_train, epochs=20, callbacks=callbacks, validation_data=(X_test, y_test), batch_size=4\n",
    ")\n",
    "end_train_time = time.time()"
   ]
  },
  {
   "cell_type": "code",
   "execution_count": 13,
   "metadata": {},
   "outputs": [
    {
     "name": "stdout",
     "output_type": "stream",
     "text": [
      "2/2 [==============================] - 4s 2s/step - loss: 2.4560 - accuracy: 0.5082\n"
     ]
    },
    {
     "data": {
      "text/plain": [
       "[2.4560441970825195, 0.5081967115402222]"
      ]
     },
     "execution_count": 13,
     "metadata": {},
     "output_type": "execute_result"
    }
   ],
   "source": [
    "model.evaluate(X_test, y_test)"
   ]
  },
  {
   "cell_type": "code",
   "execution_count": 15,
   "metadata": {},
   "outputs": [
    {
     "name": "stdout",
     "output_type": "stream",
     "text": [
      "Elapsed training time: 3676.6447 seconds\n"
     ]
    }
   ],
   "source": [
    "training_elapsed = end_train_time - start_train_time\n",
    "\n",
    "print(f\"Elapsed training time: {round(training_elapsed, 4)} seconds\")"
   ]
  },
  {
   "cell_type": "code",
   "execution_count": 15,
   "metadata": {},
   "outputs": [],
   "source": [
    "def plot_confusion_matrix(actual, predicted, labels, ds_type):\n",
    "    cm = confusion_matrix(np.argmax(actual, 1), np.argmax(predicted, 1))\n",
    "    \n",
    "    # Calculate row sums\n",
    "    row_sums = cm.sum(axis=1, keepdims=True)\n",
    "\n",
    "    # Convert counts to percentages\n",
    "    cm_percentages = cm / row_sums.astype(float) * 100\n",
    "\n",
    "    # Calculate misclassification rate\n",
    "    incorrect = np.sum(cm) - np.sum(np.diag(cm))\n",
    "    print(f'Incorrect: {incorrect}')\n",
    "    total = np.sum(cm)\n",
    "    print(f'Total: {total}')\n",
    "    misclassification_rate = incorrect / total * 100\n",
    "\n",
    "    plt.figure(figsize=(10, 8))\n",
    "    sns.set(font_scale=1.4)\n",
    "    ax = sns.heatmap(cm_percentages, annot=True, fmt='.1f', cmap='rocket', annot_kws={\"size\": 16}, \n",
    "                     xticklabels=labels, yticklabels=labels)\n",
    "    ax.set_title('Confusion Matrix for ' + ds_type)\n",
    "    ax.set_xlabel('Predicted Action')\n",
    "    ax.set_ylabel('Actual Action')\n",
    "    plt.xticks(rotation=90)\n",
    "    plt.yticks(rotation=0)\n",
    "\n",
    "    # Add misclassification rate text\n",
    "    plt.text(len(labels) + 0.5, len(labels) + 1.5, f'Misclassification Rate: {misclassification_rate:.2f}%', \n",
    "             horizontalalignment='right', verticalalignment='bottom', fontdict={\"size\": 10, \"weight\": \"bold\", \"color\": \"red\"})\n",
    "\n",
    "    plt.tight_layout()\n",
    "    plt.show()"
   ]
  },
  {
   "cell_type": "code",
   "execution_count": 16,
   "metadata": {},
   "outputs": [],
   "source": [
    "model.save(\"../../models/3DFCNN.h5\")"
   ]
  },
  {
   "cell_type": "code",
   "execution_count": 17,
   "metadata": {},
   "outputs": [
    {
     "name": "stdout",
     "output_type": "stream",
     "text": [
      "2/2 [==============================] - 0s 194ms/step\n",
      "Incorrect: 29\n",
      "Total: 61\n"
     ]
    },
    {
     "data": {
      "image/png": "[encoded data removed]",
      "text/plain": [
       "<Figure size 1000x800 with 2 Axes>"
      ]
     },
     "metadata": {},
     "output_type": "display_data"
    }
   ],
   "source": [
    "model = tf.keras.models.load_model(\"../../models/3DFCNN.h5\")\n",
    "\n",
    "y_pred = model.predict(X_test)\n",
    "\n",
    "plot_confusion_matrix(y_test, y_pred, labels=CLASSES_LIST, ds_type=\"3DFCNN\")"
   ]
  },
  {
   "cell_type": "code",
   "execution_count": 18,
   "metadata": {},
   "outputs": [
    {
     "name": "stdout",
     "output_type": "stream",
     "text": [
      "3DFCNN Model Size: 5.352136 MB\n"
     ]
    }
   ],
   "source": [
    "import os \n",
    "\n",
    "model_size = os.path.getsize(\"../../models/3DFCNN.h5\") / 1000000\n",
    "\n",
    "print(f\"3DFCNN Model Size: {model_size} MB\")"
   ]
  },
  {
   "cell_type": "code",
   "execution_count": 19,
   "metadata": {},
   "outputs": [],
   "source": [
    "def get_flops(model_h5_path):\n",
    "    session = tf.compat.v1.Session()\n",
    "    graph = tf.compat.v1.get_default_graph()\n",
    "\n",
    "\n",
    "    with graph.as_default():\n",
    "        with session.as_default():\n",
    "            model = tf.keras.models.load_model(model_h5_path)\n",
    "\n",
    "            run_meta = tf.compat.v1.RunMetadata()\n",
    "            opts = tf.compat.v1.profiler.ProfileOptionBuilder.float_operation()\n",
    "\n",
    "            # We use the Keras session graph in the call to the profiler.\n",
    "            flops = tf.compat.v1.profiler.profile(graph=graph,\n",
    "                                                  run_meta=run_meta, cmd='op', options=opts)\n",
    "\n",
    "            return flops.total_float_ops"
   ]
  },
  {
   "cell_type": "code",
   "execution_count": 20,
   "metadata": {},
   "outputs": [
    {
     "name": "stdout",
     "output_type": "stream",
     "text": [
      "WARNING:tensorflow:From c:\\Users\\nepom\\miniconda3\\envs\\openmmlab\\lib\\site-packages\\keras\\layers\\normalization\\batch_normalization.py:562: _colocate_with (from tensorflow.python.framework.ops) is deprecated and will be removed in a future version.\n",
      "Instructions for updating:\n",
      "Colocations handled automatically by placer.\n"
     ]
    },
    {
     "name": "stderr",
     "output_type": "stream",
     "text": [
      "WARNING:tensorflow:From c:\\Users\\nepom\\miniconda3\\envs\\openmmlab\\lib\\site-packages\\keras\\layers\\normalization\\batch_normalization.py:562: _colocate_with (from tensorflow.python.framework.ops) is deprecated and will be removed in a future version.\n",
      "Instructions for updating:\n",
      "Colocations handled automatically by placer.\n"
     ]
    },
    {
     "name": "stdout",
     "output_type": "stream",
     "text": [
      "WARNING:tensorflow:From c:\\Users\\nepom\\miniconda3\\envs\\openmmlab\\lib\\site-packages\\tensorflow\\python\\profiler\\internal\\flops_registry.py:138: tensor_shape_from_node_def_name (from tensorflow.python.framework.graph_util_impl) is deprecated and will be removed in a future version.\n",
      "Instructions for updating:\n",
      "Use `tf.compat.v1.graph_util.tensor_shape_from_node_def_name`\n"
     ]
    },
    {
     "name": "stderr",
     "output_type": "stream",
     "text": [
      "WARNING:tensorflow:From c:\\Users\\nepom\\miniconda3\\envs\\openmmlab\\lib\\site-packages\\tensorflow\\python\\profiler\\internal\\flops_registry.py:138: tensor_shape_from_node_def_name (from tensorflow.python.framework.graph_util_impl) is deprecated and will be removed in a future version.\n",
      "Instructions for updating:\n",
      "Use `tf.compat.v1.graph_util.tensor_shape_from_node_def_name`\n"
     ]
    },
    {
     "name": "stdout",
     "output_type": "stream",
     "text": [
      "Total flops for 3D FCNN Model: 0.4347 MFLOPS\n"
     ]
    }
   ],
   "source": [
    "print(f\"Total flops for 3D FCNN Model: {get_flops('../../models/3DFCNN.h5')/10**6} MFLOPS\")"
   ]
  },
  {
   "cell_type": "markdown",
   "metadata": {},
   "source": [
    "Run inference"
   ]
  },
  {
   "cell_type": "code",
   "execution_count": 2,
   "metadata": {},
   "outputs": [
    {
     "name": "stdout",
     "output_type": "stream",
     "text": [
      "The autoreload extension is already loaded. To reload it, use:\n",
      "  %reload_ext autoreload\n",
      "Moviepy - Building video C:\\Users\\nepom\\AppData\\Local\\Temp\\tmpsu3jwzbj.mp4.\n",
      "Moviepy - Writing video C:\\Users\\nepom\\AppData\\Local\\Temp\\tmpsu3jwzbj.mp4\n",
      "\n"
     ]
    },
    {
     "name": "stderr",
     "output_type": "stream",
     "text": [
      "                                                              \r"
     ]
    },
    {
     "name": "stdout",
     "output_type": "stream",
     "text": [
      "Moviepy - Done !\n",
      "Moviepy - video ready C:\\Users\\nepom\\AppData\\Local\\Temp\\tmpsu3jwzbj.mp4\n",
      "Loads checkpoint by local backend from path: C:\\Users\\nepom\\Downloads\\gm-activity-recognition\\models\\faster_rcnn_r50_fpn_1x_coco-person_20201216_175929-d022e227.pth\n",
      "Performing Human Detection for each frame\n",
      "[                                                  ] 0/30, elapsed: 0s, ETA:06/18 02:05:49 - mmengine - \u001b[5m\u001b[4m\u001b[33mWARNING\u001b[0m - \"FileClient\" will be deprecated in future. Please use io functions in https://mmengine.readthedocs.io/en/latest/api/fileio.html#file-io\n",
      "06/18 02:05:49 - mmengine - \u001b[5m\u001b[4m\u001b[33mWARNING\u001b[0m - \"HardDiskBackend\" is the alias of \"LocalBackend\" and the former will be deprecated in future.\n",
      "[>>>>>>>>>>>>>>>>>>>>>>>>>>>>>>>>] 30/30, 11.5 task/s, elapsed: 3s, ETA:     0s\n",
      "Loads checkpoint by local backend from path: C:\\Users\\nepom\\Downloads\\gm-activity-recognition\\models\\hrnet_w32_coco_256x192-c78dce93_20200708.pth\n",
      "Performing Human Pose Estimation for each frame\n",
      "[>>>>>>>>>>>>>>>>>>>>>>>>>>>>>>>>>] 30/30, 7.3 task/s, elapsed: 4s, ETA:     0s\n"
     ]
    }
   ],
   "source": [
    "from moviepy.editor import VideoFileClip\n",
    "import tempfile\n",
    "import torch\n",
    "from preprocessing.pose_keypoint import pose_inference_with_align\n",
    "import cv2\n",
    "from pathlib import Path\n",
    "from constants import globals as g\n",
    "from mmaction.apis import (\n",
    "    detection_inference,\n",
    ")\n",
    "from utils import settings\n",
    "from mmaction.utils import frame_extract\n",
    "\n",
    "%load_ext autoreload\n",
    "%autoreload 2\n",
    "\n",
    "tmp_dir = tempfile.TemporaryDirectory()\n",
    "\n",
    "def clipped_one_sec(video_path) -> str:\n",
    "    cap = cv2.VideoCapture(video_path)\n",
    "\n",
    "    if not cap.isOpened():\n",
    "        raise ValueError(f\"Could not open: {video_path}\")\n",
    "\n",
    "    fps = int(cap.get(cv2.CAP_PROP_FPS))\n",
    "    total_frames = int(cap.get(cv2.CAP_PROP_FRAME_COUNT))\n",
    "\n",
    "    duration = total_frames / fps\n",
    "\n",
    "    start_time = (duration / 2) - 0.5\n",
    "    start_frame = int(start_time * fps)\n",
    "\n",
    "    frames = []\n",
    "    cap.set(cv2.CAP_PROP_POS_FRAMES, start_frame)\n",
    "\n",
    "    for _ in range(fps):\n",
    "        ret, frame = cap.read()\n",
    "        if not ret:\n",
    "            break\n",
    "        frames.append(frame)\n",
    "\n",
    "    cap.release()\n",
    "\n",
    "    clip_path = f\"{tmp_dir.name}/1-sec-clip.mp4\"\n",
    "    out = cv2.VideoWriter(\n",
    "        clip_path,\n",
    "        cv2.VideoWriter_fourcc(*\"mp4v\"),\n",
    "        fps,\n",
    "        (\n",
    "            frames[0].shape[1],\n",
    "            frames[0].shape[0],\n",
    "        ),\n",
    "    )\n",
    "\n",
    "    for frame in frames:\n",
    "        out.write(frame)\n",
    "\n",
    "    out.release()\n",
    "    return clip_path\n",
    "\n",
    "def center_crop(input_path, aspect_ratio=(4, 3)):\n",
    "    video = VideoFileClip(str(input_path))\n",
    "\n",
    "    original_width, original_height = video.size\n",
    "\n",
    "    target_width, target_height = aspect_ratio\n",
    "    new_height = original_width * target_height / target_width\n",
    "\n",
    "    if new_height > original_height:\n",
    "        new_height = original_height\n",
    "        new_width = new_height * target_width / target_height\n",
    "    else:\n",
    "        new_width = original_width\n",
    "\n",
    "    x_center = original_width / 2\n",
    "    y_center = original_height / 2\n",
    "    crop_x1 = x_center - new_width / 2\n",
    "    crop_x2 = x_center + new_width / 2\n",
    "    crop_y1 = y_center - new_height / 2\n",
    "    crop_y2 = y_center + new_height / 2\n",
    "\n",
    "    cropped_video = video.crop(x1=crop_x1, y1=crop_y1, x2=crop_x2, y2=crop_y2)\n",
    "\n",
    "    with tempfile.NamedTemporaryFile(delete=False, suffix='.mp4') as temp_file:\n",
    "        temp_file_path = temp_file.name\n",
    "    \n",
    "    cropped_video.write_videofile(temp_file_path)\n",
    "\n",
    "    return temp_file_path\n",
    "\n",
    "\n",
    "if torch.cuda.is_available():\n",
    "    device = \"cuda:0\"\n",
    "else:\n",
    "    device = \"cpu\"\n",
    "\n",
    "filename = \"hop-trial.mp4\"\n",
    "src_vid = Path(g.TEST_DATA_DIR, filename)\n",
    "src_cropped = center_crop(src_vid)\n",
    "src_clipped_vid = clipped_one_sec(src_cropped)\n",
    "\n",
    "frame_paths, frames = frame_extract(\n",
    "    src_clipped_vid,\n",
    "    out_dir=tmp_dir.name,\n",
    "    short_side=1080\n",
    ")\n",
    "\n",
    "torch.cuda.empty_cache()\n",
    "det_results, _ = detection_inference(\n",
    "    det_config=settings.det_config,\n",
    "    det_checkpoint=settings.det_checkpoint,\n",
    "    det_score_thr=settings.det_score_thr,\n",
    "    frame_paths=frame_paths,\n",
    "    device=device,\n",
    "    with_score=True\n",
    ")\n",
    "keypoints, scores = pose_inference_with_align(frame_paths, det_results)"
   ]
  },
  {
   "cell_type": "code",
   "execution_count": 4,
   "metadata": {},
   "outputs": [],
   "source": [
    "import numpy as np\n",
    "import matplotlib.pyplot as plt\n",
    "import io\n",
    "import tempfile\n",
    "from scipy.ndimage import gaussian_filter\n",
    "from PIL import Image\n",
    "import imageio\n",
    "from pathlib import Path\n",
    "\n",
    "def create_heatmap_gif(keypoints, target_frames):\n",
    "    frames = []\n",
    "\n",
    "    for frame_index in range(len(target_frames)):\n",
    "        heatmap = np.zeros(target_frames[frame_index].shape[:2])\n",
    "        spread = 10\n",
    "\n",
    "        for joint in keypoints[frame_index]:\n",
    "            x, y = int(joint[0]), int(joint[1])\n",
    "            if 0 <= x < heatmap.shape[1] and 0 <= y < heatmap.shape[0]:\n",
    "                heatmap[y, x] = 1\n",
    "\n",
    "        heatmap_blurred = gaussian_filter(heatmap, sigma=spread)\n",
    "        heatmap_normalized = heatmap_blurred / heatmap_blurred.max()\n",
    "\n",
    "        fig, ax = plt.subplots(figsize=(10, 10))\n",
    "        ax.imshow(heatmap_normalized, interpolation=\"nearest\")\n",
    "        ax.axis(\"off\")\n",
    "\n",
    "        # Save the frame to a buffer\n",
    "        buf = io.BytesIO()\n",
    "        plt.savefig(buf, format=\"png\", bbox_inches=\"tight\", pad_inches=0)\n",
    "        buf.seek(0)\n",
    "        plt.close(fig)\n",
    "\n",
    "        # Resize the image to 224x224\n",
    "        image = Image.open(buf)\n",
    "        image = image.resize((224, 224), Image.Resampling.LANCZOS)\n",
    "        frames.append(np.array(image))\n",
    "\n",
    "    # Create a temporary file to save the GIF\n",
    "    with tempfile.NamedTemporaryFile(delete=False, suffix=\".gif\") as temp_file:\n",
    "        temp_file_path = temp_file.name\n",
    "\n",
    "    # Save the frames as a GIF in the temporary file\n",
    "    imageio.mimsave(temp_file_path, frames, duration=1)\n",
    "\n",
    "    return temp_file_path"
   ]
  },
  {
   "cell_type": "code",
   "execution_count": 14,
   "metadata": {},
   "outputs": [
    {
     "name": "stdout",
     "output_type": "stream",
     "text": [
      "No GPU found\n"
     ]
    }
   ],
   "source": [
    "import os\n",
    "import tensorflow as tf\n",
    "\n",
    "os.environ['CUDA_VISIBLE_DEVICES'] = '-1'\n",
    "\n",
    "if tf.test.gpu_device_name():\n",
    "    print('GPU found')\n",
    "else:\n",
    "    print(\"No GPU found\")"
   ]
  },
  {
   "cell_type": "code",
   "execution_count": 5,
   "metadata": {},
   "outputs": [],
   "source": [
    "input_src = create_heatmap_gif(keypoints[1, :], frames)"
   ]
  },
  {
   "cell_type": "code",
   "execution_count": 12,
   "metadata": {},
   "outputs": [],
   "source": [
    "input_arr = frames_from_video_file(input_src)"
   ]
  },
  {
   "cell_type": "code",
   "execution_count": 4,
   "metadata": {},
   "outputs": [],
   "source": [
    "input_arr = np.expand_dims(input_arr, 0)"
   ]
  },
  {
   "cell_type": "code",
   "execution_count": 5,
   "metadata": {},
   "outputs": [
    {
     "data": {
      "text/plain": [
       "(1, 10, 128, 128, 3)"
      ]
     },
     "execution_count": 5,
     "metadata": {},
     "output_type": "execute_result"
    }
   ],
   "source": [
    "input_arr.shape"
   ]
  },
  {
   "cell_type": "code",
   "execution_count": 6,
   "metadata": {},
   "outputs": [],
   "source": [
    "model = tf.keras.models.load_model(\"../../models/3DFCNN.h5\")"
   ]
  },
  {
   "cell_type": "code",
   "execution_count": 8,
   "metadata": {},
   "outputs": [],
   "source": [
    "import time"
   ]
  },
  {
   "cell_type": "code",
   "execution_count": 60,
   "metadata": {},
   "outputs": [
    {
     "name": "stdout",
     "output_type": "stream",
     "text": [
      "1/1 [==============================] - 0s 85ms/step\n",
      "Elapsed inference time: 0.1105 seconds\n",
      "Predicted action: LEAP with confidence score of 91.0402%.\n"
     ]
    }
   ],
   "source": [
    "start = time.time()\n",
    "result = model.predict(input_arr)\n",
    "end = time.time()\n",
    "\n",
    "CLASSES_LIST = ['gallop', 'hop', 'jump', 'leap', 'run', 'skip', 'slide']\n",
    "\n",
    "label, score = CLASSES_LIST[np.argmax(result)], np.max(result)\n",
    "elapsed = end - start\n",
    "print(f\"Elapsed inference time: {round(elapsed, 4)} seconds\")\n",
    "\n",
    "print(\n",
    "    f\"Predicted action: {label.upper()} with confidence score of {round((score*100), 4)}%.\"\n",
    ")"
   ]
  },
  {
   "cell_type": "code",
   "execution_count": null,
   "metadata": {},
   "outputs": [],
   "source": []
  },
  {
   "cell_type": "code",
   "execution_count": null,
   "metadata": {},
   "outputs": [],
   "source": []
  }
 ],
 "metadata": {
  "kernelspec": {
   "display_name": "openmmlab",
   "language": "python",
   "name": "python3"
  },
  "language_info": {
   "codemirror_mode": {
    "name": "ipython",
    "version": 3
   },
   "file_extension": ".py",
   "mimetype": "text/x-python",
   "name": "python",
   "nbconvert_exporter": "python",
   "pygments_lexer": "ipython3",
   "version": "3.8.19"
  }
 },
 "nbformat": 4,
 "nbformat_minor": 2
}
